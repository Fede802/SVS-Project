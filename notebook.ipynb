{
 "cells": [
  {
   "cell_type": "markdown",
   "metadata": {},
   "source": [
    "# ACC with stop&go"
   ]
  },
  {
   "cell_type": "code",
   "execution_count": 1,
   "metadata": {},
   "outputs": [
    {
     "name": "stdout",
     "output_type": "stream",
     "text": [
      "pygame 2.6.1 (SDL 2.28.4, Python 3.7.12)\n",
      "Hello from the pygame community. https://www.pygame.org/contribute.html\n"
     ]
    }
   ],
   "source": [
    "import carla, time, pygame, math, random, cv2\n",
    "import numpy as np"
   ]
  },
  {
   "cell_type": "code",
   "execution_count": 2,
   "metadata": {},
   "outputs": [],
   "source": [
    "client = carla.Client('localhost', 2000)\n",
    "client.set_timeout(10.0)\n",
    "\n",
    "world = client.get_world()\n",
    "spectator = world.get_spectator()"
   ]
  },
  {
   "cell_type": "markdown",
   "metadata": {},
   "source": [
    "## Some helpful functions used in this notebook"
   ]
  },
  {
   "cell_type": "code",
   "execution_count": 3,
   "metadata": {},
   "outputs": [],
   "source": [
    "def move_spectator_to(transform, distance=5.0, x=0, y=0, z=4, yaw=0, pitch=-30, roll=0):\n",
    "    back_location = transform.location - transform.get_forward_vector() * distance\n",
    "    \n",
    "    back_location.x += x\n",
    "    back_location.y += y\n",
    "    back_location.z += z\n",
    "    transform.rotation.yaw += yaw\n",
    "    transform.rotation.pitch = pitch\n",
    "    transform.rotation.roll = roll\n",
    "    \n",
    "    spectator_transform = carla.Transform(back_location, transform.rotation)\n",
    "    spectator.set_transform(spectator_transform)\n",
    "\n",
    "def spawn_vehicle(vehicle_index=0, spawn_index=0, pattern='vehicle.*', transform = carla.Transform()):\n",
    "    blueprint_library = world.get_blueprint_library()\n",
    "    vehicle_bp = blueprint_library.filter(pattern)[vehicle_index]\n",
    "    spawn_point = world.get_map().get_spawn_points()[spawn_index]\n",
    "    spawn_point.location.x += transform.location.x\n",
    "    spawn_point.location.y += transform.location.y\n",
    "    spawn_point.location.z += transform.location.z\n",
    "    spawn_point.rotation.pitch += transform.rotation.pitch\n",
    "    spawn_point.rotation.roll += transform.rotation.roll\n",
    "    spawn_point.rotation.yaw += transform.rotation.yaw\n",
    "    vehicle = world.spawn_actor(vehicle_bp, spawn_point)\n",
    "    return vehicle\n",
    "\n",
    "def draw_on_screen(world, transform, content='O', color=carla.Color(0, 255, 0), life_time=20):\n",
    "    world.debug.draw_string(transform.location, content, color=color, life_time=life_time)\n",
    "\n",
    "def spawn_camera(attach_to=None, transform=carla.Transform(carla.Location(x=1.2, z=1.2), carla.Rotation(pitch=-10)), width=800, height=600):\n",
    "    camera_bp = world.get_blueprint_library().find('sensor.camera.rgb')\n",
    "    camera_bp.set_attribute('image_size_x', str(width))\n",
    "    camera_bp.set_attribute('image_size_y', str(height))\n",
    "    #camera_bp.set_attribute('fov', '120')\n",
    "    #camera_bp.set_attribute('sensor_tick', '0')\n",
    "    camera = world.spawn_actor(camera_bp, transform, attach_to=attach_to)\n",
    "    return camera"
   ]
  },
  {
   "cell_type": "markdown",
   "metadata": {},
   "source": [
    "## Sensors\n",
    "\n",
    "Sensors are another type of actors, usually spawned attached to a vehicle, designed to retrieve data from the world. The type of data depends on the sensor, but it can range from RGB images, LiDAR scans or even collision information.\n",
    "\n",
    "Sensors are divided into two main categories:\n",
    "\n",
    "- **Regular sensors**: these sensors retrieve data at a fixed rate, usually every tick (e.g RGB cameras).\n",
    "- **Trigger sensors**: these sensors only retrieve data when a certain condition is met (e.g collision sensors).\n",
    "\n",
    "Sensors details can be found in the [CARLA documentation](https://carla.readthedocs.io/en/latest/ref_sensors/).\n",
    "\n",
    "![Sensors](img/sensors.jpg)"
   ]
  },
  {
   "cell_type": "markdown",
   "metadata": {},
   "source": [
    "### Live camera feed\n",
    "\n",
    "We can also visualize the camera feed in real-time. This is useful for debugging and understanding what the camera sees.\n",
    "\n",
    "We can use the `opencv` library to create a window and display the camera feed."
   ]
  },
  {
   "cell_type": "code",
   "execution_count": 4,
   "metadata": {},
   "outputs": [
    {
     "ename": "ArgumentError",
     "evalue": "Python argument types in\n    Transform.__init__(Transform)\ndid not match C++ signature:\n    __init__(struct _object * __ptr64, class carla::geom::Location location=<carla.libcarla.Location object at 0x000001148CDEE750>, class carla::geom::Rotation rotation=<carla.libcarla.Rotation object at 0x000001148CDEE7B0>)\n    __init__(struct _object * __ptr64)",
     "output_type": "error",
     "traceback": [
      "\u001b[1;31m---------------------------------------------------------------------------\u001b[0m",
      "\u001b[1;31mArgumentError\u001b[0m                             Traceback (most recent call last)",
      "\u001b[1;32m~\\AppData\\Local\\Temp\\ipykernel_17264\\838301801.py\u001b[0m in \u001b[0;36m<module>\u001b[1;34m\u001b[0m\n\u001b[0;32m      1\u001b[0m \u001b[0mvehicle\u001b[0m \u001b[1;33m=\u001b[0m \u001b[0mspawn_vehicle\u001b[0m\u001b[1;33m(\u001b[0m\u001b[1;33m)\u001b[0m\u001b[1;33m\u001b[0m\u001b[1;33m\u001b[0m\u001b[0m\n\u001b[1;32m----> 2\u001b[1;33m \u001b[0mvehicle2\u001b[0m \u001b[1;33m=\u001b[0m \u001b[0mspawn_vehicle\u001b[0m\u001b[1;33m(\u001b[0m\u001b[0mtransform\u001b[0m\u001b[1;33m=\u001b[0m\u001b[0mcarla\u001b[0m\u001b[1;33m.\u001b[0m\u001b[0mTransform\u001b[0m\u001b[1;33m(\u001b[0m\u001b[0mx\u001b[0m\u001b[1;33m=\u001b[0m\u001b[1;36m50\u001b[0m\u001b[1;33m)\u001b[0m\u001b[1;33m)\u001b[0m\u001b[1;33m\u001b[0m\u001b[1;33m\u001b[0m\u001b[0m\n\u001b[0m\u001b[0;32m      3\u001b[0m \u001b[0mcamera\u001b[0m \u001b[1;33m=\u001b[0m \u001b[0mspawn_camera\u001b[0m\u001b[1;33m(\u001b[0m\u001b[0mattach_to\u001b[0m\u001b[1;33m=\u001b[0m\u001b[0mvehicle\u001b[0m\u001b[1;33m,\u001b[0m \u001b[0mtransform\u001b[0m\u001b[1;33m=\u001b[0m\u001b[0mcarla\u001b[0m\u001b[1;33m.\u001b[0m\u001b[0mTransform\u001b[0m\u001b[1;33m(\u001b[0m\u001b[0mcarla\u001b[0m\u001b[1;33m.\u001b[0m\u001b[0mLocation\u001b[0m\u001b[1;33m(\u001b[0m\u001b[0mx\u001b[0m\u001b[1;33m=\u001b[0m\u001b[1;33m-\u001b[0m\u001b[1;36m6\u001b[0m\u001b[1;33m,\u001b[0m \u001b[0mz\u001b[0m\u001b[1;33m=\u001b[0m\u001b[1;36m5\u001b[0m\u001b[1;33m)\u001b[0m\u001b[1;33m,\u001b[0m \u001b[0mcarla\u001b[0m\u001b[1;33m.\u001b[0m\u001b[0mRotation\u001b[0m\u001b[1;33m(\u001b[0m\u001b[0mpitch\u001b[0m\u001b[1;33m=\u001b[0m\u001b[1;33m-\u001b[0m\u001b[1;36m30\u001b[0m\u001b[1;33m)\u001b[0m\u001b[1;33m)\u001b[0m\u001b[1;33m)\u001b[0m\u001b[1;33m\u001b[0m\u001b[1;33m\u001b[0m\u001b[0m\n\u001b[0;32m      4\u001b[0m \u001b[1;33m\u001b[0m\u001b[0m\n\u001b[0;32m      5\u001b[0m \u001b[0mvideo_output\u001b[0m \u001b[1;33m=\u001b[0m \u001b[0mnp\u001b[0m\u001b[1;33m.\u001b[0m\u001b[0mzeros\u001b[0m\u001b[1;33m(\u001b[0m\u001b[1;33m(\u001b[0m\u001b[1;36m600\u001b[0m\u001b[1;33m,\u001b[0m \u001b[1;36m800\u001b[0m\u001b[1;33m,\u001b[0m \u001b[1;36m4\u001b[0m\u001b[1;33m)\u001b[0m\u001b[1;33m,\u001b[0m \u001b[0mdtype\u001b[0m\u001b[1;33m=\u001b[0m\u001b[0mnp\u001b[0m\u001b[1;33m.\u001b[0m\u001b[0muint8\u001b[0m\u001b[1;33m)\u001b[0m\u001b[1;33m\u001b[0m\u001b[1;33m\u001b[0m\u001b[0m\n",
      "\u001b[1;31mArgumentError\u001b[0m: Python argument types in\n    Transform.__init__(Transform)\ndid not match C++ signature:\n    __init__(struct _object * __ptr64, class carla::geom::Location location=<carla.libcarla.Location object at 0x000001148CDEE750>, class carla::geom::Rotation rotation=<carla.libcarla.Rotation object at 0x000001148CDEE7B0>)\n    __init__(struct _object * __ptr64)"
     ]
    }
   ],
   "source": [
    "\n",
    "vehicle = spawn_vehicle()\n",
    "vehicle2 = spawn_vehicle(transform=carla.Transform(carla.Location(x=50)))\n",
    "camera = spawn_camera(attach_to=vehicle, transform=carla.Transform(carla.Location(x=-6, z=5), carla.Rotation(pitch=-30)))\n",
    "\n",
    "video_output = np.zeros((600, 800, 4), dtype=np.uint8)\n",
    "def camera_callback(image):\n",
    "    global video_output\n",
    "    video_output = np.reshape(np.copy(image.raw_data), (image.height, image.width, 4))\n",
    "\n",
    "camera.listen(lambda image: camera_callback(image))\n",
    "\n",
    "#vehicle.set_autopilot(True)\n",
    "#control = carla.VehicleControl(throttle=1000)\n",
    "#vehicle.apply_control(control)\n",
    "\n",
    "cv2.namedWindow('RGB Camera', cv2.WINDOW_AUTOSIZE)\n",
    "\n",
    "running = True\n",
    "\n",
    "try:\n",
    "    while running:\n",
    "        if cv2.waitKey(1) == ord('q'):\n",
    "            running = False\n",
    "            break\n",
    "        print(\"Actor transform: \", vehicle.get_transform())\n",
    "        print(\"Actor forward vector (direction):\", vehicle.get_transform().get_forward_vector())\n",
    "        print(\"Actor velocity: \", vehicle.get_velocity(),\", \",vehicle.get_velocity().length(),\"m/s, \",vehicle.get_velocity().length()*3.6,\"km/h\")\n",
    "        cv2.imshow('RGB Camera', video_output)\n",
    "        \n",
    "finally:\n",
    "    cv2.destroyAllWindows()\n",
    "    camera.destroy()\n",
    "    vehicle.destroy()"
   ]
  },
  {
   "cell_type": "code",
   "execution_count": 12,
   "metadata": {},
   "outputs": [],
   "source": [
    "camera_transforms = [\n",
    "    (carla.Transform(carla.Location(x=1.5, z=2.4)), (600, 300)),  # Front camera\n",
    "    (carla.Transform(carla.Location(x=-0.5, y=-0.9, z=2.4), carla.Rotation(yaw=-135)), (200, 400)),  # Left side camera\n",
    "    (carla.Transform(carla.Location(x=-0.5, y=0.9, z=2.4), carla.Rotation(yaw=135)), (200, 400)),  # Right side camera\n",
    "    (carla.Transform(carla.Location(x=-1.5, z=2.4), carla.Rotation(yaw=180)), (600, 300))  # Rear camera\n",
    "]\n",
    "\n",
    "vehicle = spawn_vehicle()\n",
    "#control = carla.VehicleControl(throttle=0.5)\n",
    "#vehicle.apply_control(control)\n",
    "#world.tick()\n",
    "vehicle.set_autopilot(True)\n",
    "\n",
    "\n",
    "# Spawn cameras and attach to vehicle\n",
    "cameras = []\n",
    "video_outputs = [np.zeros((600, 800, 4), dtype=np.uint8) for _ in range(4)]\n",
    "\n",
    "def create_camera_callback(index):\n",
    "    def camera_callback(image):\n",
    "        global video_outputs\n",
    "        video_outputs[index] = np.reshape(np.copy(image.raw_data), (image.height, image.width, 4))\n",
    "    return camera_callback\n",
    "\n",
    "for i, transform in enumerate(camera_transforms):\n",
    "    camera = spawn_camera(attach_to=vehicle, transform=transform[0], width=transform[1][0], height=transform[1][1])\n",
    "    camera.listen(create_camera_callback(i))\n",
    "    cameras.append(camera)\n",
    "\n",
    "cv2.namedWindow('Front Camera', cv2.WINDOW_AUTOSIZE)\n",
    "cv2.namedWindow('Left Side Camera', cv2.WINDOW_AUTOSIZE)\n",
    "cv2.namedWindow('Right Side Camera', cv2.WINDOW_AUTOSIZE)\n",
    "cv2.namedWindow('Rear Camera', cv2.WINDOW_AUTOSIZE)\n",
    "\n",
    "running = True\n",
    "\n",
    "try:\n",
    "    while running:\n",
    "        if cv2.waitKey(1) == ord('q'):\n",
    "            running = False\n",
    "            break\n",
    "        cv2.imshow('Front Camera', video_outputs[0])\n",
    "        cv2.imshow('Left Side Camera', video_outputs[1])\n",
    "        cv2.imshow('Right Side Camera', video_outputs[2])\n",
    "        cv2.imshow('Rear Camera', video_outputs[3])\n",
    "finally:\n",
    "    cv2.destroyAllWindows()\n",
    "    for camera in cameras:\n",
    "        camera.destroy()\n",
    "    vehicle.destroy()"
   ]
  },
  {
   "cell_type": "code",
   "execution_count": 4,
   "metadata": {},
   "outputs": [
    {
     "name": "stdout",
     "output_type": "stream",
     "text": [
      "Transform(Location(x=0.000000, y=0.000000, z=0.000000), Rotation(pitch=0.000000, yaw=0.000000, roll=0.000000))\n",
      "Longitude: 0.000136521330288110466\r"
     ]
    }
   ],
   "source": [
    "vehicle = spawn_vehicle()\n",
    "\n",
    "gps_blueprint = world.get_blueprint_library().find('sensor.other.gnss')\n",
    "gps_sensor = world.spawn_actor(gps_blueprint, carla.Transform(), attach_to=vehicle)\n",
    "print(carla.Transform())\n",
    "\n",
    "ROAD_X_MIN = -110\n",
    "LONGITUDE_MAX = 0.001\n",
    "\n",
    "latest_gps = {\"latitude\": 0.0, \"longitude\": 0.0}\n",
    "\n",
    "def gps_callback(gps_data):\n",
    "    global latest_gps\n",
    "    latest_gps[\"latitude\"] = gps_data.latitude\n",
    "    latest_gps[\"longitude\"] = gps_data.longitude\n",
    "\n",
    "gps_sensor.listen(gps_callback)\n",
    "\n",
    "try:\n",
    "    while True:\n",
    "        current_x = latest_gps[\"longitude\"]\n",
    "        print(f\"Longitude: {current_x}\", end='\\r')\n",
    "\n",
    "        if current_x > LONGITUDE_MAX:\n",
    "            new_location = carla.Location(x=ROAD_X_MIN, y=vehicle.get_transform().location.y)\n",
    "            vehicle.set_transform(carla.Transform(new_location, vehicle.get_transform().rotation))\n",
    "\n",
    "        control = carla.VehicleControl(throttle=0.5)\n",
    "        vehicle.apply_control(control)\n",
    "\n",
    "        world.tick()\n",
    "except KeyboardInterrupt:\n",
    "    pass\n",
    "finally:\n",
    "    gps_sensor.destroy()\n",
    "    vehicle.destroy()"
   ]
  }
 ],
 "metadata": {
  "kernelspec": {
   "display_name": "carla-svs-lab04",
   "language": "python",
   "name": "python3"
  },
  "language_info": {
   "codemirror_mode": {
    "name": "ipython",
    "version": 3
   },
   "file_extension": ".py",
   "mimetype": "text/x-python",
   "name": "python",
   "nbconvert_exporter": "python",
   "pygments_lexer": "ipython3",
   "version": "3.7.12"
  }
 },
 "nbformat": 4,
 "nbformat_minor": 2
}
